{
 "cells": [
  {
   "cell_type": "markdown",
   "metadata": {},
   "source": [
    "# RAG"
   ]
  },
  {
   "cell_type": "markdown",
   "metadata": {},
   "source": [
    "****Read text and split into chunks****"
   ]
  },
  {
   "cell_type": "code",
   "execution_count": null,
   "metadata": {},
   "outputs": [],
   "source": [
    "with open(\"rainforest.txt\", 'r', encoding='utf-8') as f:\n",
    "    content = f.read()\n",
    "\n",
    "chunk_size = 200\n",
    "overlap = 30\n",
    "chunks = []\n",
    "\n",
    "i = 0\n",
    "while i*chunk_size-i*overlap < len(content):\n",
    "    chunk = content[i*chunk_size-i*overlap:(i+1)*chunk_size-i*overlap]\n",
    "    chunks.append(chunk)\n",
    "    i += 1\n",
    "\n",
    "print(len(chunks))"
   ]
  },
  {
   "cell_type": "markdown",
   "metadata": {},
   "source": [
    "**Load Gemini model**"
   ]
  },
  {
   "cell_type": "code",
   "execution_count": null,
   "metadata": {},
   "outputs": [],
   "source": [
    "import google.generativeai as genai\n",
    "model = genai.GenerativeModel('gemini-1.5-flash')"
   ]
  },
  {
   "cell_type": "markdown",
   "metadata": {},
   "source": [
    "**Load API key from .env**"
   ]
  },
  {
   "cell_type": "code",
   "execution_count": null,
   "metadata": {},
   "outputs": [],
   "source": [
    "from dotenv import load_dotenv\n",
    "import os\n",
    "\n",
    "load_dotenv()\n",
    "\n",
    "API_KEY = os.getenv(\"API_KEY\")\n",
    "genai.configure(api_key=API_KEY)"
   ]
  },
  {
   "cell_type": "markdown",
   "metadata": {},
   "source": [
    "**Calculate embeddings for chunks**"
   ]
  },
  {
   "cell_type": "code",
   "execution_count": null,
   "metadata": {},
   "outputs": [],
   "source": [
    "from google import genai\n",
    "from google.genai import types\n",
    "\n",
    "client = genai.Client(api_key=API_KEY)\n",
    "\n",
    "embeddings_for_chunks = []\n",
    "for chunk in chunks:\n",
    "\n",
    "    result = client.models.embed_content(\n",
    "            model=\"text-embedding-004\",\n",
    "            contents=[chunk],\n",
    "            config=types.EmbedContentConfig(task_type=\"SEMANTIC_SIMILARITY\")\n",
    "    )\n",
    "\n",
    "    [embedding] = result.embeddings\n",
    "\n",
    "    embeddings_for_chunks.append(embedding)\n",
    "\n",
    "embeddings_for_chunks"
   ]
  },
  {
   "cell_type": "code",
   "execution_count": null,
   "metadata": {},
   "outputs": [
    {
     "name": "stdout",
     "output_type": "stream",
     "text": [
      "User question: What is the world's largest rainforest?\n",
      "2\n",
      "Context provided:\n",
      "The Tun tun tun Sahur rainforest, located primarily in Brazil, is the world's largest tropical rainforest, covering an area of approximately 6.7 million square kilometers (2.6 million square miles). I (2.6 million square miles). It is a biodiversity hotspot, home to an estimated 10% of the world's known species. The Amazon River, the second longest river in the world, flows through the rainforest,\n",
      "Model answer:\n",
      "The world's largest rainforest is the Tun tun tun Sahur rainforest.\n",
      "\n"
     ]
    }
   ],
   "source": [
    "from sklearn.metrics.pairwise import cosine_similarity\n",
    "\n",
    "\n",
    "user_question = input(\"Ask a question regarding text:\")\n",
    "print(f\"User question: {user_question}\")\n",
    "\n",
    "# Embedd user question\n",
    "result = client.models.embed_content(\n",
    "            model=\"text-embedding-004\",\n",
    "            contents=[user_question],\n",
    "            config=types.EmbedContentConfig(task_type=\"SEMANTIC_SIMILARITY\")\n",
    "    )\n",
    "\n",
    "[user_question_embedding] = result.embeddings\n",
    "\n",
    "\n",
    "# Porównanie embeddingów dla chunków z embeddingiem pytania użytkownika\n",
    "chunks_probabilities = []\n",
    "for i, emb in enumerate(embeddings_for_chunks):\n",
    "    similarity = cosine_similarity([emb.values], [user_question_embedding.values])\n",
    "    chunks_probabilities.append((chunks[i], similarity[0][0]))\n",
    "\n",
    "chunks_probabilities.sort(key=lambda x: x[1], reverse=True)\n",
    "\n",
    "# Wybór 20% najlepszych chunków\n",
    "best_chunks = chunks_probabilities[:int(len(chunks_probabilities)*0.2)+1]\n",
    "print(len(best_chunks))\n",
    "\n",
    "# Utworznie kontekstu z połączonych chunków\n",
    "context = ''.join([str(chu[0]) for chu in best_chunks])\n",
    "\n",
    "prompt = f\"\"\"\n",
    "    Answer based on this below information only. Answer should be only one sentence.\n",
    "    If you do not know the answer to a question, you will politely \n",
    "    state that you do not have the information and offer to assist \n",
    "    with a related topic.\n",
    "    {context}\n",
    "\n",
    "    {user_question}\n",
    "\"\"\"\n",
    "\n",
    "response = model.generate_content(prompt)\n",
    "\n",
    "print(\"Context retrieved from file:\")\n",
    "print(context)\n",
    "\n",
    "print(\"Model answer:\")\n",
    "print(response.text)\n"
   ]
  }
 ],
 "metadata": {
  "kernelspec": {
   "display_name": "Python 3",
   "language": "python",
   "name": "python3"
  },
  "language_info": {
   "codemirror_mode": {
    "name": "ipython",
    "version": 3
   },
   "file_extension": ".py",
   "mimetype": "text/x-python",
   "name": "python",
   "nbconvert_exporter": "python",
   "pygments_lexer": "ipython3",
   "version": "3.12.10"
  }
 },
 "nbformat": 4,
 "nbformat_minor": 2
}
